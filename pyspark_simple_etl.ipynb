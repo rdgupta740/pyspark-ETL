{
 "cells": [
  {
   "cell_type": "code",
   "execution_count": 1,
   "id": "16152326-1a69-4413-98f8-a8534a7b132d",
   "metadata": {},
   "outputs": [],
   "source": [
    "from pyspark.sql import SparkSession\n",
    "from pyspark.sql.functions import col, count, row_number, coalesce\n",
    "from pyspark.sql.window import Window"
   ]
  },
  {
   "cell_type": "code",
   "execution_count": null,
   "id": "3f7170eb-f8a7-447d-a68e-3564151dee43",
   "metadata": {},
   "outputs": [],
   "source": [
    "# initialize the sparksession with appname as simple_etl and proving configuratiosn of postgresql\n",
    "\n",
    "spark = SparkSession.builder \\\n",
    "    .appName(\"simple_etl\") \\\n",
    "    .config(\"spark.jars\", \"/postgresql-42.7.54.jar\") \\\n",
    "    .getOrCreate()"
   ]
  },
  {
   "cell_type": "code",
   "execution_count": null,
   "id": "5d68154b-2fff-4ecd-ad1f-270ff5ba4603",
   "metadata": {},
   "outputs": [],
   "source": [
    "# Extracting alreadfy existing table created in sql server.\n",
    "\n",
    "transactions = spark.read \\\n",
    "        .format(\"jdbc\") \\\n",
    "        .option(\"url\", \"jdbc:postgresql://localhost:5432/postgres\") \\\n",
    "        .option(\"dbtable\", \"transactions\").option(\"user\", \"postgres\") \\\n",
    "        .option(\"password\", \"ratan\").load()"
   ]
  },
  {
   "cell_type": "code",
   "execution_count": null,
   "id": "3e25afbe-fffb-472b-97c8-20f0dc979bec",
   "metadata": {},
   "outputs": [],
   "source": [
    "# A new table which we want to create and save in the transformed data\n",
    "\n",
    "new_table_name = \"updated_transactions\""
   ]
  },
  {
   "cell_type": "code",
   "execution_count": null,
   "id": "edb8dbbb-fa0a-4fda-b1c8-955584af67e6",
   "metadata": {},
   "outputs": [],
   "source": [
    "# Transformation: handling duplicate data\n",
    "\n",
    "window_spec = Window.partitionBy(\"user_id\", \"amount\", \"transaction_type\", \"transaction_date\", \"status\", \"method\").orderBy(col(\"transaction_id\"))\n",
    "\n",
    "# Add a row_number column to distinguish duplicates\n",
    "transactions_with_duplicates = transactions.withColumn(\"row_num\", row_number().over(window_spec))\n",
    "\n",
    "# Keep only the first occurrence (row_num = 1) and drop duplicates\n",
    "transactions_deduplicated = transactions_with_duplicates.filter(col(\"row_num\") == 1).drop(\"row_num\")"
   ]
  },
  {
   "cell_type": "code",
   "execution_count": null,
   "id": "cd7498f4-51e5-40b7-9a8c-57845c92a1a9",
   "metadata": {},
   "outputs": [],
   "source": [
    "# creating and loading data into a new table in postgre. You can see the table after running this in pg admin\n",
    "\n",
    "transactions_deduplicated.write.mode(\"overwrite\").format(\"jdbc\").option(\"url\", \"jdbc:postgresql://localhost:5432/postgres\") \\\n",
    "    .option(\"dbtable\", new_table_name).option(\"mode\", \"append\").option(\"user\", \"postgres\") \\\n",
    "    .option(\"password\", \"ratan\").save()"
   ]
  }
 ],
 "metadata": {
  "kernelspec": {
   "display_name": "Python 3 (ipykernel)",
   "language": "python",
   "name": "python3"
  },
  "language_info": {
   "codemirror_mode": {
    "name": "ipython",
    "version": 3
   },
   "file_extension": ".py",
   "mimetype": "text/x-python",
   "name": "python",
   "nbconvert_exporter": "python",
   "pygments_lexer": "ipython3",
   "version": "3.9.0"
  }
 },
 "nbformat": 4,
 "nbformat_minor": 5
}
